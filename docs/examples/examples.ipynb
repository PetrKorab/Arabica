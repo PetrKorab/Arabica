{
 "cells": [
  {
   "cell_type": "code",
   "execution_count": 19,
   "outputs": [],
   "source": [
    "# Time-series example"
   ],
   "metadata": {
    "collapsed": false,
    "pycharm": {
     "name": "#%%\n"
    }
   }
  },
  {
   "cell_type": "code",
   "execution_count": 20,
   "outputs": [],
   "source": [
    "import pandas as pd\n",
    "from arabica import arabica_freq"
   ],
   "metadata": {
    "collapsed": false,
    "pycharm": {
     "name": "#%%\n"
    }
   }
  },
  {
   "cell_type": "code",
   "execution_count": 21,
   "outputs": [
    {
     "data": {
      "text/plain": "                                            headline          date\n0  Illinois “got into fiscal problems because of ...   May 8, 2020\n1  Black cats in Vietnam are being killed and con...   May 8, 2020\n2  Georgia Gov. Brian Kemp “mandates restaurants ...   May 8, 2020\n3  Central Park hospital tents housed thousands o...   May 8, 2020\n4  “New autopsy reports suggest Jeffrey Epstein m...   May 8, 2020",
      "text/html": "<div>\n<style scoped>\n    .dataframe tbody tr th:only-of-type {\n        vertical-align: middle;\n    }\n\n    .dataframe tbody tr th {\n        vertical-align: top;\n    }\n\n    .dataframe thead th {\n        text-align: right;\n    }\n</style>\n<table border=\"1\" class=\"dataframe\">\n  <thead>\n    <tr style=\"text-align: right;\">\n      <th></th>\n      <th>headline</th>\n      <th>date</th>\n    </tr>\n  </thead>\n  <tbody>\n    <tr>\n      <th>0</th>\n      <td>Illinois “got into fiscal problems because of ...</td>\n      <td>May 8, 2020</td>\n    </tr>\n    <tr>\n      <th>1</th>\n      <td>Black cats in Vietnam are being killed and con...</td>\n      <td>May 8, 2020</td>\n    </tr>\n    <tr>\n      <th>2</th>\n      <td>Georgia Gov. Brian Kemp “mandates restaurants ...</td>\n      <td>May 8, 2020</td>\n    </tr>\n    <tr>\n      <th>3</th>\n      <td>Central Park hospital tents housed thousands o...</td>\n      <td>May 8, 2020</td>\n    </tr>\n    <tr>\n      <th>4</th>\n      <td>“New autopsy reports suggest Jeffrey Epstein m...</td>\n      <td>May 8, 2020</td>\n    </tr>\n  </tbody>\n</table>\n</div>"
     },
     "execution_count": 21,
     "metadata": {},
     "output_type": "execute_result"
    }
   ],
   "source": [
    "data = pd.read_csv('headlines.csv',encoding='utf8')\n",
    "data.head(5)"
   ],
   "metadata": {
    "collapsed": false,
    "pycharm": {
     "name": "#%%\n"
    }
   }
  },
  {
   "cell_type": "code",
   "execution_count": 22,
   "outputs": [
    {
     "data": {
      "text/plain": "    period                              unigram  \\\n0  2019-12     says: 48,trump: 12,president: 12   \n1  2020-01            says: 78,shows: 20,us: 17   \n2  2020-02     says: 77,trump: 19,president: 17   \n3  2020-03  says: 81,coronavirus: 64,people: 23   \n4  2020-04   says: 66,covid: 39,coronavirus: 29   \n5  2020-05   says: 38,covid: 32,coronavirus: 20   \n6  2020-06        says: 31,police: 16,trump: 13   \n\n                                             bigram  \\\n0      says,photo: 6,donald,trump: 6,photo,shows: 5   \n1       video,shows: 8,says,photo: 7,kobe,bryant: 7   \n2    photo,shows: 8,bernie,sanders: 8,says,photo: 7   \n3  joe,biden: 14,bernie,sanders: 10,donald,trump: 8   \n4             new,york: 8,feb,feb: 5,photo,shows: 5   \n5       joe,biden: 8,photo,shows: 8,donald,trump: 7   \n6  donald,trump: 9,people,killed: 4,george,floyd: 4   \n\n                                             trigram  \n0  says,photo,shows: 5,president,donald,trump: 4,...  \n1  says,video,shows: 6,says,photo,shows: 6,irania...  \n2  says,photo,shows: 5,works,white,house: 4,says,...  \n3  president,donald,trump: 4,says,joe,biden: 4,sa...  \n4  new,york,city: 4,says,video,shows: 3,feb,feb,f...  \n5  president,donald,trump: 5,says,president,donal...  \n6  require,years,training: 3,training,people,kill...  ",
      "text/html": "<div>\n<style scoped>\n    .dataframe tbody tr th:only-of-type {\n        vertical-align: middle;\n    }\n\n    .dataframe tbody tr th {\n        vertical-align: top;\n    }\n\n    .dataframe thead th {\n        text-align: right;\n    }\n</style>\n<table border=\"1\" class=\"dataframe\">\n  <thead>\n    <tr style=\"text-align: right;\">\n      <th></th>\n      <th>period</th>\n      <th>unigram</th>\n      <th>bigram</th>\n      <th>trigram</th>\n    </tr>\n  </thead>\n  <tbody>\n    <tr>\n      <th>0</th>\n      <td>2019-12</td>\n      <td>says: 48,trump: 12,president: 12</td>\n      <td>says,photo: 6,donald,trump: 6,photo,shows: 5</td>\n      <td>says,photo,shows: 5,president,donald,trump: 4,...</td>\n    </tr>\n    <tr>\n      <th>1</th>\n      <td>2020-01</td>\n      <td>says: 78,shows: 20,us: 17</td>\n      <td>video,shows: 8,says,photo: 7,kobe,bryant: 7</td>\n      <td>says,video,shows: 6,says,photo,shows: 6,irania...</td>\n    </tr>\n    <tr>\n      <th>2</th>\n      <td>2020-02</td>\n      <td>says: 77,trump: 19,president: 17</td>\n      <td>photo,shows: 8,bernie,sanders: 8,says,photo: 7</td>\n      <td>says,photo,shows: 5,works,white,house: 4,says,...</td>\n    </tr>\n    <tr>\n      <th>3</th>\n      <td>2020-03</td>\n      <td>says: 81,coronavirus: 64,people: 23</td>\n      <td>joe,biden: 14,bernie,sanders: 10,donald,trump: 8</td>\n      <td>president,donald,trump: 4,says,joe,biden: 4,sa...</td>\n    </tr>\n    <tr>\n      <th>4</th>\n      <td>2020-04</td>\n      <td>says: 66,covid: 39,coronavirus: 29</td>\n      <td>new,york: 8,feb,feb: 5,photo,shows: 5</td>\n      <td>new,york,city: 4,says,video,shows: 3,feb,feb,f...</td>\n    </tr>\n    <tr>\n      <th>5</th>\n      <td>2020-05</td>\n      <td>says: 38,covid: 32,coronavirus: 20</td>\n      <td>joe,biden: 8,photo,shows: 8,donald,trump: 7</td>\n      <td>president,donald,trump: 5,says,president,donal...</td>\n    </tr>\n    <tr>\n      <th>6</th>\n      <td>2020-06</td>\n      <td>says: 31,police: 16,trump: 13</td>\n      <td>donald,trump: 9,people,killed: 4,george,floyd: 4</td>\n      <td>require,years,training: 3,training,people,kill...</td>\n    </tr>\n  </tbody>\n</table>\n</div>"
     },
     "execution_count": 22,
     "metadata": {},
     "output_type": "execute_result"
    }
   ],
   "source": [
    "arabica_freq(text = data['headline'],\n",
    "            time = data['date'],\n",
    "            time_freq = 'M',           # Calculates monthly n-gram frequencies\n",
    "            max_words = 3,             # Displays only the first three most frequent unigrams, bigrams, and trigrams\n",
    "            stopwords = ['english'],   # Removes English set of stopwords\n",
    "            skip = ['grrrrr'],         # Excludes string from n-gram calculation\n",
    "            numbers = True,            # Removes numbers\n",
    "            punct = True,              # Removes punctuation\n",
    "            lower_case = True)         # Makes all text lowercase before n-gram calculation"
   ],
   "metadata": {
    "collapsed": false,
    "pycharm": {
     "name": "#%%\n"
    }
   }
  },
  {
   "cell_type": "code",
   "execution_count": 23,
   "outputs": [],
   "source": [
    "# Descriptive example"
   ],
   "metadata": {
    "collapsed": false,
    "pycharm": {
     "name": "#%%\n"
    }
   }
  },
  {
   "cell_type": "code",
   "execution_count": 4,
   "outputs": [],
   "source": [
    "import pandas as pd\n",
    "from arabica import arabica_freq"
   ],
   "metadata": {
    "collapsed": false,
    "pycharm": {
     "name": "#%%\n"
    }
   }
  },
  {
   "cell_type": "code",
   "execution_count": 5,
   "outputs": [],
   "source": [
    "data = pd.read_csv('reviews_subset.csv',encoding='utf8')"
   ],
   "metadata": {
    "collapsed": false,
    "pycharm": {
     "name": "#%%\n"
    }
   }
  },
  {
   "cell_type": "code",
   "execution_count": 6,
   "outputs": [
    {
     "data": {
      "text/plain": "         time                                               text\n0  2010-08-19  You may find yourself trying to decide between...\n1  2009-06-05  On the Reeds website, this same product is ava...",
      "text/html": "<div>\n<style scoped>\n    .dataframe tbody tr th:only-of-type {\n        vertical-align: middle;\n    }\n\n    .dataframe tbody tr th {\n        vertical-align: top;\n    }\n\n    .dataframe thead th {\n        text-align: right;\n    }\n</style>\n<table border=\"1\" class=\"dataframe\">\n  <thead>\n    <tr style=\"text-align: right;\">\n      <th></th>\n      <th>time</th>\n      <th>text</th>\n    </tr>\n  </thead>\n  <tbody>\n    <tr>\n      <th>0</th>\n      <td>2010-08-19</td>\n      <td>You may find yourself trying to decide between...</td>\n    </tr>\n    <tr>\n      <th>1</th>\n      <td>2009-06-05</td>\n      <td>On the Reeds website, this same product is ava...</td>\n    </tr>\n  </tbody>\n</table>\n</div>"
     },
     "execution_count": 6,
     "metadata": {},
     "output_type": "execute_result"
    }
   ],
   "source": [
    "data.head(2)"
   ],
   "metadata": {
    "collapsed": false,
    "pycharm": {
     "name": "#%%\n"
    }
   }
  },
  {
   "cell_type": "code",
   "execution_count": 27,
   "outputs": [
    {
     "name": "stderr",
     "output_type": "stream",
     "text": [
      "c:\\pycharm_analyses\\visualization_arabica\\documentation\\arabica_documentation\\venv\\lib\\site-packages\\arabica\\arabica_freq.py:102: FutureWarning: The default value of regex will change from True to False in a future version. In addition, single character regular expressions will *not* be treated as literal strings when regex=True.\n",
      "  unigram_ungr = unigram_ungr.str.replace('(', '')\n",
      "c:\\pycharm_analyses\\visualization_arabica\\documentation\\arabica_documentation\\venv\\lib\\site-packages\\arabica\\arabica_freq.py:103: FutureWarning: The default value of regex will change from True to False in a future version. In addition, single character regular expressions will *not* be treated as literal strings when regex=True.\n",
      "  unigram_ungr = unigram_ungr.str.replace(')', '')\n",
      "c:\\pycharm_analyses\\visualization_arabica\\documentation\\arabica_documentation\\venv\\lib\\site-packages\\arabica\\arabica_freq.py:122: FutureWarning: The default value of regex will change from True to False in a future version. In addition, single character regular expressions will *not* be treated as literal strings when regex=True.\n",
      "  bigrams_ungr = bigrams_ungr.str.replace('(', '')\n",
      "c:\\pycharm_analyses\\visualization_arabica\\documentation\\arabica_documentation\\venv\\lib\\site-packages\\arabica\\arabica_freq.py:123: FutureWarning: The default value of regex will change from True to False in a future version. In addition, single character regular expressions will *not* be treated as literal strings when regex=True.\n",
      "  bigrams_ungr = bigrams_ungr.str.replace(')', '')\n",
      "c:\\pycharm_analyses\\visualization_arabica\\documentation\\arabica_documentation\\venv\\lib\\site-packages\\arabica\\arabica_freq.py:144: FutureWarning: The default value of regex will change from True to False in a future version. In addition, single character regular expressions will *not* be treated as literal strings when regex=True.\n",
      "  trigrams_ungr = trigrams_ungr.str.replace('(', '')\n",
      "c:\\pycharm_analyses\\visualization_arabica\\documentation\\arabica_documentation\\venv\\lib\\site-packages\\arabica\\arabica_freq.py:145: FutureWarning: The default value of regex will change from True to False in a future version. In addition, single character regular expressions will *not* be treated as literal strings when regex=True.\n",
      "  trigrams_ungr = trigrams_ungr.str.replace(')', '')\n"
     ]
    },
    {
     "data": {
      "text/plain": "        unigram unigram_freq                bigram bigram_freq  \\\n0        ginger           75  crystallized, ginger           9   \n1           one           15         ginger, candy           8   \n2         reeds           14         reeds, ginger           5   \n3         would           13   crystalized, ginger           5   \n4         candy           11           much, sugar           4   \n5          love           11        ginger, flavor           4   \n6  crystallized           11          baby, ginger           4   \n\n                    trigram trigram_freq  \n0       health, food, store            3  \n1     charged, credit, card            2  \n2      ginger, candy, would            2  \n3     ginger, unique, taste            2  \n4  ginger, peoples, organic            2  \n5         half, sugar, much            1  \n6     think, product, first            1  ",
      "text/html": "<div>\n<style scoped>\n    .dataframe tbody tr th:only-of-type {\n        vertical-align: middle;\n    }\n\n    .dataframe tbody tr th {\n        vertical-align: top;\n    }\n\n    .dataframe thead th {\n        text-align: right;\n    }\n</style>\n<table border=\"1\" class=\"dataframe\">\n  <thead>\n    <tr style=\"text-align: right;\">\n      <th></th>\n      <th>unigram</th>\n      <th>unigram_freq</th>\n      <th>bigram</th>\n      <th>bigram_freq</th>\n      <th>trigram</th>\n      <th>trigram_freq</th>\n    </tr>\n  </thead>\n  <tbody>\n    <tr>\n      <th>0</th>\n      <td>ginger</td>\n      <td>75</td>\n      <td>crystallized, ginger</td>\n      <td>9</td>\n      <td>health, food, store</td>\n      <td>3</td>\n    </tr>\n    <tr>\n      <th>1</th>\n      <td>one</td>\n      <td>15</td>\n      <td>ginger, candy</td>\n      <td>8</td>\n      <td>charged, credit, card</td>\n      <td>2</td>\n    </tr>\n    <tr>\n      <th>2</th>\n      <td>reeds</td>\n      <td>14</td>\n      <td>reeds, ginger</td>\n      <td>5</td>\n      <td>ginger, candy, would</td>\n      <td>2</td>\n    </tr>\n    <tr>\n      <th>3</th>\n      <td>would</td>\n      <td>13</td>\n      <td>crystalized, ginger</td>\n      <td>5</td>\n      <td>ginger, unique, taste</td>\n      <td>2</td>\n    </tr>\n    <tr>\n      <th>4</th>\n      <td>candy</td>\n      <td>11</td>\n      <td>much, sugar</td>\n      <td>4</td>\n      <td>ginger, peoples, organic</td>\n      <td>2</td>\n    </tr>\n    <tr>\n      <th>5</th>\n      <td>love</td>\n      <td>11</td>\n      <td>ginger, flavor</td>\n      <td>4</td>\n      <td>half, sugar, much</td>\n      <td>1</td>\n    </tr>\n    <tr>\n      <th>6</th>\n      <td>crystallized</td>\n      <td>11</td>\n      <td>baby, ginger</td>\n      <td>4</td>\n      <td>think, product, first</td>\n      <td>1</td>\n    </tr>\n  </tbody>\n</table>\n</div>"
     },
     "execution_count": 27,
     "metadata": {},
     "output_type": "execute_result"
    }
   ],
   "source": [
    "## Descriptive EDA\n",
    "arabica_freq(text = data['text'],\n",
    "             time = data['time'],\n",
    "             time_freq = 'ungroup',     # Calculates n-grams frequencies without period aggregation\n",
    "             max_words = 7,             # Displays only the first 7 most frequent unigrams, bigrams, and trigrams\n",
    "             stopwords = ['english'],   # Removes English set of stopwords\n",
    "             skip = ['br'],             # Excludes string from n-gram calculation\n",
    "             numbers = True,            # Removes numbers\n",
    "             punct = True,              # Removes punctuation\n",
    "             lower_case = True)         # Makes all text lowercase before n-gram calculation"
   ],
   "metadata": {
    "collapsed": false,
    "pycharm": {
     "name": "#%%\n"
    }
   }
  }
 ],
 "metadata": {
  "kernelspec": {
   "display_name": "Python 3",
   "language": "python",
   "name": "python3"
  },
  "language_info": {
   "codemirror_mode": {
    "name": "ipython",
    "version": 2
   },
   "file_extension": ".py",
   "mimetype": "text/x-python",
   "name": "python",
   "nbconvert_exporter": "python",
   "pygments_lexer": "ipython2",
   "version": "2.7.6"
  }
 },
 "nbformat": 4,
 "nbformat_minor": 0
}