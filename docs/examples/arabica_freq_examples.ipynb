{
 "cells": [
  {
   "cell_type": "code",
   "execution_count": 1,
   "outputs": [],
   "source": [
    "# Descriptive example"
   ],
   "metadata": {
    "collapsed": false,
    "pycharm": {
     "name": "#%%\n"
    }
   }
  },
  {
   "cell_type": "code",
   "execution_count": 2,
   "outputs": [],
   "source": [
    "import pandas as pd\n",
    "from arabica import arabica_freq"
   ],
   "metadata": {
    "collapsed": false,
    "pycharm": {
     "name": "#%%\n"
    }
   }
  },
  {
   "cell_type": "code",
   "execution_count": 3,
   "outputs": [],
   "source": [
    "data = pd.read_csv('reviews_subset.csv',encoding='utf8')"
   ],
   "metadata": {
    "collapsed": false,
    "pycharm": {
     "name": "#%%\n"
    }
   }
  },
  {
   "cell_type": "code",
   "execution_count": 4,
   "outputs": [
    {
     "data": {
      "text/plain": "          time                                             review\n0   19/08/2010  You may find yourself trying to decide between...\n1   05/06/2009  On the Reeds website, this same product is ava...\n2   26/07/2009  Ginger candy is one of my favorite things to e...\n3   14/03/2009  A friend got me started on candied ginger for ...\n4   31/07/2009  This stuff is just full of pure ginger flavor ...\n5   31/10/2011  I love ginger candy but would NOT buy Reed's b...\n6   01/05/2012  I buy this same ginger in a bin from the healt...\n7   05/08/2010  This is my favorite crystallized ginger.  It t...\n8   09/04/2010  Crystallized ginger is used by many people to ...\n9   02/09/2011  I have to say that it was an easy call buying ...\n10  26/05/2010  I've always loved Ginger. I remember when I wa...\n11  04/11/2011  I've tried various brands of ginger to add to ...\n12  21/07/2011  I try to avoid sugar because of its inflammato...\n13  16/02/2011  I think of this product more as a first aid to...\n14  23/02/2012  Reed's Ginger Candy is a good tasty healthy tr...\n15  21/10/2010  i love this stuff!  it's sweet but not too swe...\n16  18/10/2010  I became addicted to crystalized ginger from e...\n17  31/08/2010  I will not run out of crystallized ginger for ...\n18  22/12/2010  i can get a 16 oz bag of this cheaper (about 1...\n19  27/09/2012  Best tasting Crystalized ginger on the market ...\n20  02/07/2012  This is pure ginger coated with a light dustin...\n21  15/02/2011  I bought this for my wife who was in her the e...\n22  06/01/2011  I ordered these to help with my morning sickne...\n23  01/03/2011  I've tried different types of crystalized ging...\n24  20/04/2011  I bought these for my wife for her morning sic...",
      "text/html": "<div>\n<style scoped>\n    .dataframe tbody tr th:only-of-type {\n        vertical-align: middle;\n    }\n\n    .dataframe tbody tr th {\n        vertical-align: top;\n    }\n\n    .dataframe thead th {\n        text-align: right;\n    }\n</style>\n<table border=\"1\" class=\"dataframe\">\n  <thead>\n    <tr style=\"text-align: right;\">\n      <th></th>\n      <th>time</th>\n      <th>review</th>\n    </tr>\n  </thead>\n  <tbody>\n    <tr>\n      <th>0</th>\n      <td>19/08/2010</td>\n      <td>You may find yourself trying to decide between...</td>\n    </tr>\n    <tr>\n      <th>1</th>\n      <td>05/06/2009</td>\n      <td>On the Reeds website, this same product is ava...</td>\n    </tr>\n    <tr>\n      <th>2</th>\n      <td>26/07/2009</td>\n      <td>Ginger candy is one of my favorite things to e...</td>\n    </tr>\n    <tr>\n      <th>3</th>\n      <td>14/03/2009</td>\n      <td>A friend got me started on candied ginger for ...</td>\n    </tr>\n    <tr>\n      <th>4</th>\n      <td>31/07/2009</td>\n      <td>This stuff is just full of pure ginger flavor ...</td>\n    </tr>\n    <tr>\n      <th>5</th>\n      <td>31/10/2011</td>\n      <td>I love ginger candy but would NOT buy Reed's b...</td>\n    </tr>\n    <tr>\n      <th>6</th>\n      <td>01/05/2012</td>\n      <td>I buy this same ginger in a bin from the healt...</td>\n    </tr>\n    <tr>\n      <th>7</th>\n      <td>05/08/2010</td>\n      <td>This is my favorite crystallized ginger.  It t...</td>\n    </tr>\n    <tr>\n      <th>8</th>\n      <td>09/04/2010</td>\n      <td>Crystallized ginger is used by many people to ...</td>\n    </tr>\n    <tr>\n      <th>9</th>\n      <td>02/09/2011</td>\n      <td>I have to say that it was an easy call buying ...</td>\n    </tr>\n    <tr>\n      <th>10</th>\n      <td>26/05/2010</td>\n      <td>I've always loved Ginger. I remember when I wa...</td>\n    </tr>\n    <tr>\n      <th>11</th>\n      <td>04/11/2011</td>\n      <td>I've tried various brands of ginger to add to ...</td>\n    </tr>\n    <tr>\n      <th>12</th>\n      <td>21/07/2011</td>\n      <td>I try to avoid sugar because of its inflammato...</td>\n    </tr>\n    <tr>\n      <th>13</th>\n      <td>16/02/2011</td>\n      <td>I think of this product more as a first aid to...</td>\n    </tr>\n    <tr>\n      <th>14</th>\n      <td>23/02/2012</td>\n      <td>Reed's Ginger Candy is a good tasty healthy tr...</td>\n    </tr>\n    <tr>\n      <th>15</th>\n      <td>21/10/2010</td>\n      <td>i love this stuff!  it's sweet but not too swe...</td>\n    </tr>\n    <tr>\n      <th>16</th>\n      <td>18/10/2010</td>\n      <td>I became addicted to crystalized ginger from e...</td>\n    </tr>\n    <tr>\n      <th>17</th>\n      <td>31/08/2010</td>\n      <td>I will not run out of crystallized ginger for ...</td>\n    </tr>\n    <tr>\n      <th>18</th>\n      <td>22/12/2010</td>\n      <td>i can get a 16 oz bag of this cheaper (about 1...</td>\n    </tr>\n    <tr>\n      <th>19</th>\n      <td>27/09/2012</td>\n      <td>Best tasting Crystalized ginger on the market ...</td>\n    </tr>\n    <tr>\n      <th>20</th>\n      <td>02/07/2012</td>\n      <td>This is pure ginger coated with a light dustin...</td>\n    </tr>\n    <tr>\n      <th>21</th>\n      <td>15/02/2011</td>\n      <td>I bought this for my wife who was in her the e...</td>\n    </tr>\n    <tr>\n      <th>22</th>\n      <td>06/01/2011</td>\n      <td>I ordered these to help with my morning sickne...</td>\n    </tr>\n    <tr>\n      <th>23</th>\n      <td>01/03/2011</td>\n      <td>I've tried different types of crystalized ging...</td>\n    </tr>\n    <tr>\n      <th>24</th>\n      <td>20/04/2011</td>\n      <td>I bought these for my wife for her morning sic...</td>\n    </tr>\n  </tbody>\n</table>\n</div>"
     },
     "execution_count": 4,
     "metadata": {},
     "output_type": "execute_result"
    }
   ],
   "source": [
    "data"
   ],
   "metadata": {
    "collapsed": false,
    "pycharm": {
     "name": "#%%\n"
    }
   }
  },
  {
   "cell_type": "code",
   "execution_count": 5,
   "outputs": [
    {
     "data": {
      "text/plain": "        unigram unigram_freq               bigram bigram_freq  \\\n0        ginger           75  crystallized,ginger           9   \n1           one           14         ginger,candy           8   \n2         would           13   crystalized,ginger           5   \n3         reeds           13         reeds,ginger           5   \n4         candy           11        ginger,flavor           4   \n5  crystallized           11           ginger,ale           4   \n6          love           11          baby,ginger           4   \n7         taste           10           much,sugar           4   \n8        flavor           10          health,food           3   \n9          much           10        strong,ginger           3   \n\n                  trigram trigram_freq  \n0       health,food,store            3  \n1     ginger,unique,taste            2  \n2      ginger,candy,would            2  \n3  ginger,peoples,organic            2  \n4         ginger,ale,love            2  \n5       know,ginger,candy            2  \n6     charged,credit,card            2  \n7        taste,could,make            1  \n8         half,sugar,much            1  \n9         less,half,sugar            1  ",
      "text/html": "<div>\n<style scoped>\n    .dataframe tbody tr th:only-of-type {\n        vertical-align: middle;\n    }\n\n    .dataframe tbody tr th {\n        vertical-align: top;\n    }\n\n    .dataframe thead th {\n        text-align: right;\n    }\n</style>\n<table border=\"1\" class=\"dataframe\">\n  <thead>\n    <tr style=\"text-align: right;\">\n      <th></th>\n      <th>unigram</th>\n      <th>unigram_freq</th>\n      <th>bigram</th>\n      <th>bigram_freq</th>\n      <th>trigram</th>\n      <th>trigram_freq</th>\n    </tr>\n  </thead>\n  <tbody>\n    <tr>\n      <th>0</th>\n      <td>ginger</td>\n      <td>75</td>\n      <td>crystallized,ginger</td>\n      <td>9</td>\n      <td>health,food,store</td>\n      <td>3</td>\n    </tr>\n    <tr>\n      <th>1</th>\n      <td>one</td>\n      <td>14</td>\n      <td>ginger,candy</td>\n      <td>8</td>\n      <td>ginger,unique,taste</td>\n      <td>2</td>\n    </tr>\n    <tr>\n      <th>2</th>\n      <td>would</td>\n      <td>13</td>\n      <td>crystalized,ginger</td>\n      <td>5</td>\n      <td>ginger,candy,would</td>\n      <td>2</td>\n    </tr>\n    <tr>\n      <th>3</th>\n      <td>reeds</td>\n      <td>13</td>\n      <td>reeds,ginger</td>\n      <td>5</td>\n      <td>ginger,peoples,organic</td>\n      <td>2</td>\n    </tr>\n    <tr>\n      <th>4</th>\n      <td>candy</td>\n      <td>11</td>\n      <td>ginger,flavor</td>\n      <td>4</td>\n      <td>ginger,ale,love</td>\n      <td>2</td>\n    </tr>\n    <tr>\n      <th>5</th>\n      <td>crystallized</td>\n      <td>11</td>\n      <td>ginger,ale</td>\n      <td>4</td>\n      <td>know,ginger,candy</td>\n      <td>2</td>\n    </tr>\n    <tr>\n      <th>6</th>\n      <td>love</td>\n      <td>11</td>\n      <td>baby,ginger</td>\n      <td>4</td>\n      <td>charged,credit,card</td>\n      <td>2</td>\n    </tr>\n    <tr>\n      <th>7</th>\n      <td>taste</td>\n      <td>10</td>\n      <td>much,sugar</td>\n      <td>4</td>\n      <td>taste,could,make</td>\n      <td>1</td>\n    </tr>\n    <tr>\n      <th>8</th>\n      <td>flavor</td>\n      <td>10</td>\n      <td>health,food</td>\n      <td>3</td>\n      <td>half,sugar,much</td>\n      <td>1</td>\n    </tr>\n    <tr>\n      <th>9</th>\n      <td>much</td>\n      <td>10</td>\n      <td>strong,ginger</td>\n      <td>3</td>\n      <td>less,half,sugar</td>\n      <td>1</td>\n    </tr>\n  </tbody>\n</table>\n</div>"
     },
     "execution_count": 5,
     "metadata": {},
     "output_type": "execute_result"
    }
   ],
   "source": [
    "## Descriptive EDA\n",
    "arabica_freq(text = data['review'],\n",
    "             time = data['time'],\n",
    "             date_format = 'us',          # Use US-style date format to parse dates\n",
    "             time_freq = 'ungroup',       # Calculate n-grams frequencies without period aggregation\n",
    "             max_words = 10,              # Display 10 most frequent unigrams, bigrams, and trigrams\n",
    "             stopwords = ['english'],     # Remove English set of stopwords\n",
    "             skip = ['<br />'],           # Remove additional strings\n",
    "             numbers = True,              # Remove numbers\n",
    "             lower_case = True)           # Lowercase text"
   ],
   "metadata": {
    "collapsed": false,
    "pycharm": {
     "name": "#%%\n"
    }
   }
  },
  {
   "cell_type": "code",
   "execution_count": 6,
   "outputs": [],
   "source": [
    "df = arabica_freq(text = data['review'],\n",
    "                  time = data['time'],\n",
    "                  date_format = 'us',          # Use US-style date format to parse dates\n",
    "                  time_freq = 'ungroup',       # Calculate n-grams frequencies without period aggregation\n",
    "                  max_words = 10,              # Display 10 most frequent unigrams, bigrams, and trigrams\n",
    "                  stopwords = ['english'],     # Remove English set of stopwords\n",
    "                  skip = ['<br />'],           # Remove additional strings\n",
    "                  numbers = True,              # Remove numbers\n",
    "                  lower_case = True)           # Lowercase text"
   ],
   "metadata": {
    "collapsed": false,
    "pycharm": {
     "name": "#%%\n"
    }
   }
  },
  {
   "cell_type": "code",
   "execution_count": 7,
   "outputs": [],
   "source": [
    "df.to_csv('descriptive_results.csv')"
   ],
   "metadata": {
    "collapsed": false,
    "pycharm": {
     "name": "#%%\n"
    }
   }
  },
  {
   "cell_type": "code",
   "execution_count": 8,
   "outputs": [],
   "source": [
    "# Time-series example"
   ],
   "metadata": {
    "collapsed": false,
    "pycharm": {
     "name": "#%%\n"
    }
   }
  },
  {
   "cell_type": "code",
   "execution_count": 9,
   "outputs": [],
   "source": [
    "import pandas as pd\n",
    "from arabica import arabica_freq"
   ],
   "metadata": {
    "collapsed": false,
    "pycharm": {
     "name": "#%%\n"
    }
   }
  },
  {
   "cell_type": "code",
   "execution_count": 10,
   "outputs": [],
   "source": [
    "data = pd.read_csv('headlines.csv',encoding='utf8')"
   ],
   "metadata": {
    "collapsed": false,
    "pycharm": {
     "name": "#%%\n"
    }
   }
  },
  {
   "cell_type": "code",
   "execution_count": 11,
   "outputs": [
    {
     "data": {
      "text/plain": "    period                              unigram  \\\n0  2019-12     says: 48,trump: 12,president: 12   \n1  2020-01         says: 78,shows: 20,trump: 17   \n2  2020-02     says: 77,trump: 20,president: 18   \n3  2020-03  says: 81,coronavirus: 76,people: 29   \n4  2020-04   says: 66,covid: 39,coronavirus: 31   \n5  2020-05   says: 38,covid: 33,coronavirus: 21   \n6  2020-06        says: 31,trump: 17,police: 16   \n\n                                              bigram  \\\n0       says,photo: 6,donald,trump: 6,photo,shows: 5   \n1        video,shows: 8,kobe,bryant: 7,says,photo: 7   \n2   bernie,sanders: 9,photo,shows: 8,nancy,pelosi: 8   \n3  joe,biden: 17,donald,trump: 12,bernie,sanders: 12   \n4              new,york: 8,feb,feb: 5,photo,shows: 5   \n5        photo,shows: 8,joe,biden: 8,donald,trump: 7   \n6      donald,trump: 11,last,year: 5,george,soros: 5   \n\n                                             trigram  \n0  says,photo,shows: 5,president,donald,trump: 4,...  \n1  says,photo,shows: 6,says,video,shows: 6,rocket...  \n2  says,photo,shows: 5,says,bernie,sanders: 4,wor...  \n3  says,joe,biden: 6,president,donald,trump: 5,sa...  \n4  new,york,city: 4,dr,anthony,fauci: 3,feb,feb,f...  \n5  president,donald,trump: 5,says,president,donal...  \n6  says,donald,trump: 3,require,years,training: 3...  ",
      "text/html": "<div>\n<style scoped>\n    .dataframe tbody tr th:only-of-type {\n        vertical-align: middle;\n    }\n\n    .dataframe tbody tr th {\n        vertical-align: top;\n    }\n\n    .dataframe thead th {\n        text-align: right;\n    }\n</style>\n<table border=\"1\" class=\"dataframe\">\n  <thead>\n    <tr style=\"text-align: right;\">\n      <th></th>\n      <th>period</th>\n      <th>unigram</th>\n      <th>bigram</th>\n      <th>trigram</th>\n    </tr>\n  </thead>\n  <tbody>\n    <tr>\n      <th>0</th>\n      <td>2019-12</td>\n      <td>says: 48,trump: 12,president: 12</td>\n      <td>says,photo: 6,donald,trump: 6,photo,shows: 5</td>\n      <td>says,photo,shows: 5,president,donald,trump: 4,...</td>\n    </tr>\n    <tr>\n      <th>1</th>\n      <td>2020-01</td>\n      <td>says: 78,shows: 20,trump: 17</td>\n      <td>video,shows: 8,kobe,bryant: 7,says,photo: 7</td>\n      <td>says,photo,shows: 6,says,video,shows: 6,rocket...</td>\n    </tr>\n    <tr>\n      <th>2</th>\n      <td>2020-02</td>\n      <td>says: 77,trump: 20,president: 18</td>\n      <td>bernie,sanders: 9,photo,shows: 8,nancy,pelosi: 8</td>\n      <td>says,photo,shows: 5,says,bernie,sanders: 4,wor...</td>\n    </tr>\n    <tr>\n      <th>3</th>\n      <td>2020-03</td>\n      <td>says: 81,coronavirus: 76,people: 29</td>\n      <td>joe,biden: 17,donald,trump: 12,bernie,sanders: 12</td>\n      <td>says,joe,biden: 6,president,donald,trump: 5,sa...</td>\n    </tr>\n    <tr>\n      <th>4</th>\n      <td>2020-04</td>\n      <td>says: 66,covid: 39,coronavirus: 31</td>\n      <td>new,york: 8,feb,feb: 5,photo,shows: 5</td>\n      <td>new,york,city: 4,dr,anthony,fauci: 3,feb,feb,f...</td>\n    </tr>\n    <tr>\n      <th>5</th>\n      <td>2020-05</td>\n      <td>says: 38,covid: 33,coronavirus: 21</td>\n      <td>photo,shows: 8,joe,biden: 8,donald,trump: 7</td>\n      <td>president,donald,trump: 5,says,president,donal...</td>\n    </tr>\n    <tr>\n      <th>6</th>\n      <td>2020-06</td>\n      <td>says: 31,trump: 17,police: 16</td>\n      <td>donald,trump: 11,last,year: 5,george,soros: 5</td>\n      <td>says,donald,trump: 3,require,years,training: 3...</td>\n    </tr>\n  </tbody>\n</table>\n</div>"
     },
     "execution_count": 11,
     "metadata": {},
     "output_type": "execute_result"
    }
   ],
   "source": [
    "# Time-series EDA\n",
    "arabica_freq(text = data['headline'],\n",
    "             time = data['date'],\n",
    "             date_format = 'us',          # Uses US-style date format to parse dates\n",
    "             time_freq = 'M',             # Aggregation period: 'D' = daily, 'M' = monthly, 'Y' = yearly\n",
    "             max_words = 3,               # Displays thee most n-grams for each period\n",
    "             stopwords = ['english'],     # Remove English set of stopwords\n",
    "             skip = ['<br />'],           # Remove additional unwanted strings\n",
    "             numbers = True,              # Remove numbers\n",
    "             lower_case = True)           # Lowercase text"
   ],
   "metadata": {
    "collapsed": false,
    "pycharm": {
     "name": "#%%\n"
    }
   }
  },
  {
   "cell_type": "code",
   "execution_count": 11,
   "outputs": [],
   "source": [],
   "metadata": {
    "collapsed": false,
    "pycharm": {
     "name": "#%%\n"
    }
   }
  }
 ],
 "metadata": {
  "kernelspec": {
   "display_name": "Python 3",
   "language": "python",
   "name": "python3"
  },
  "language_info": {
   "codemirror_mode": {
    "name": "ipython",
    "version": 2
   },
   "file_extension": ".py",
   "mimetype": "text/x-python",
   "name": "python",
   "nbconvert_exporter": "python",
   "pygments_lexer": "ipython2",
   "version": "2.7.6"
  }
 },
 "nbformat": 4,
 "nbformat_minor": 0
}